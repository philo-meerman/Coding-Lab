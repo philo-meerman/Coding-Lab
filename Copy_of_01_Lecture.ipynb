{
  "nbformat": 4,
  "nbformat_minor": 0,
  "metadata": {
    "colab": {
      "provenance": [],
      "toc_visible": true,
      "include_colab_link": true
    },
    "kernelspec": {
      "name": "python3",
      "display_name": "Python 3"
    },
    "language_info": {
      "name": "python"
    }
  },
  "cells": [
    {
      "cell_type": "markdown",
      "metadata": {
        "id": "view-in-github",
        "colab_type": "text"
      },
      "source": [
        "<a href=\"https://colab.research.google.com/github/philo-meerman/Coding-Lab/blob/master/Copy_of_01_Lecture.ipynb\" target=\"_parent\"><img src=\"https://colab.research.google.com/assets/colab-badge.svg\" alt=\"Open In Colab\"/></a>"
      ]
    },
    {
      "cell_type": "markdown",
      "source": [
        "# MBDA Big Data - CODING LAB - WEEK 01"
      ],
      "metadata": {
        "id": "zrLlZcX0nTLk"
      }
    },
    {
      "cell_type": "markdown",
      "source": [
        "# Program Structure"
      ],
      "metadata": {
        "id": "QrsMNetfnYxb"
      }
    },
    {
      "cell_type": "markdown",
      "metadata": {
        "id": "FWglAYxKWz6H"
      },
      "source": [
        "Let's do some machine learning, and recognize handwritten digits.\n",
        "\n",
        "* We will use the \"digits dataset\" and Logistic Regression to classify images of handwritten digits:\n",
        "* The dataset contains 1800 images of handwritten digits\n",
        "* Each image is 8x8 in levels of grey\n",
        "\n",
        "Regularization with Logistic Regression:  \n",
        "* $\\textrm{Loss} = -log(\\textrm{likelihood}) + \\frac{1}{C}*\\sum_i{\\beta_i^2}$\n",
        "  * $\\beta_i$ is the coefficient for the feature $i$ \n",
        "  * $C$ is the hyperparameter\n",
        "\n",
        "\n",
        "__\n",
        "\n",
        "\n",
        "**PLAN**\n",
        "1. What skills we need?\n",
        "  * logistic regression (sklearn's `LogisticRegression`)\n",
        "  * split dataset between train / test (sklearn's `train_test_split`)\n",
        "  * show how the classifier works = confusion matrix (sklearn's `ConfusionMatrixDisplay`)\n",
        "  * get the digits dataset (sklearn `load_digits`)\n",
        "  * visualize some image sample (`matplotlib`)\n",
        "  * manipulate the images from vector to matrix / matrix to vector (`numpy`)\n",
        "1. Assemble the team\n",
        "  * load the dataset\n",
        "  * split it into train / test\n",
        "  * create the logistic regression model\n",
        "1. Execute the plan\n",
        "  * visualize samples from the dataset: show an image and its label\n",
        "  * train the logistic regression model\n",
        "1. Share the bounty\n",
        "  * show the confusion matrix on the test dataset\n",
        "  * distribute the model\n"
      ]
    },
    {
      "cell_type": "markdown",
      "source": [
        "## Skills = Imports"
      ],
      "metadata": {
        "id": "vJ3XKmQsh1Ap"
      }
    },
    {
      "cell_type": "code",
      "source": [
        "import numpy as np \n",
        "import matplotlib.pyplot as plt\n",
        "\n",
        "from sklearn.datasets import load_digits\n",
        "from sklearn.linear_model import LogisticRegression\n",
        "from sklearn.metrics import ConfusionMatrixDisplay\n",
        "from sklearn.model_selection import train_test_split\n"
      ],
      "metadata": {
        "id": "vbBYNas0hzjK"
      },
      "execution_count": 1,
      "outputs": []
    },
    {
      "cell_type": "markdown",
      "metadata": {
        "id": "7DeIeWD0Wz6L"
      },
      "source": [
        "## Assemble the Team\n"
      ]
    },
    {
      "cell_type": "code",
      "metadata": {
        "id": "ihyxo5_yWz6M"
      },
      "source": [
        "digits = load_digits()"
      ],
      "execution_count": 2,
      "outputs": []
    },
    {
      "cell_type": "code",
      "source": [
        "print(type(digits.data))\n",
        "print(digits.data.shape)"
      ],
      "metadata": {
        "id": "-l0PoNAyYXd-",
        "outputId": "4c6ab3c4-3632-47e2-8239-cc36d35e5962",
        "colab": {
          "base_uri": "https://localhost:8080/"
        }
      },
      "execution_count": 7,
      "outputs": [
        {
          "output_type": "stream",
          "name": "stdout",
          "text": [
            "<class 'numpy.ndarray'>\n",
            "(1797, 64)\n"
          ]
        }
      ]
    },
    {
      "cell_type": "code",
      "source": [
        "images = digits.data"
      ],
      "metadata": {
        "id": "g2-AcxVRYXbH"
      },
      "execution_count": 8,
      "outputs": []
    },
    {
      "cell_type": "code",
      "source": [
        "digits.target.shape"
      ],
      "metadata": {
        "colab": {
          "base_uri": "https://localhost:8080/"
        },
        "id": "oWVuJRN1BVWg",
        "outputId": "546b2a1b-d3b1-4df3-c998-0ed587ee56c0"
      },
      "execution_count": 9,
      "outputs": [
        {
          "output_type": "execute_result",
          "data": {
            "text/plain": [
              "(1797,)"
            ]
          },
          "metadata": {},
          "execution_count": 9
        }
      ]
    },
    {
      "cell_type": "code",
      "source": [
        "X = digits.data\n",
        "y = digits.target"
      ],
      "metadata": {
        "id": "IMvdElgKBZv5"
      },
      "execution_count": 13,
      "outputs": []
    },
    {
      "cell_type": "code",
      "source": [
        "x_train, x_test, y_train, y_test = train_test_split(X, y, test_size=.1)\n",
        "x_train.shape"
      ],
      "metadata": {
        "colab": {
          "base_uri": "https://localhost:8080/"
        },
        "id": "U9hfIVzGCVCW",
        "outputId": "8531961c-d8c6-4a05-be60-7c62a0ebb782"
      },
      "execution_count": 16,
      "outputs": [
        {
          "output_type": "execute_result",
          "data": {
            "text/plain": [
              "(1617, 64)"
            ]
          },
          "metadata": {},
          "execution_count": 16
        }
      ]
    },
    {
      "cell_type": "code",
      "metadata": {
        "id": "Ks9HctS2Wz6a"
      },
      "source": [
        "log_reg = LogisticRegression(max_iter=10000, C=1.0)"
      ],
      "execution_count": 18,
      "outputs": []
    },
    {
      "cell_type": "markdown",
      "metadata": {
        "id": "h63NvGf-Wz6d"
      },
      "source": [
        "## Execute the Plan\n",
        "\n"
      ]
    },
    {
      "cell_type": "code",
      "metadata": {
        "id": "T_A3PSHCWz6V",
        "colab": {
          "base_uri": "https://localhost:8080/",
          "height": 162
        },
        "outputId": "0d72d6a5-e026-4865-ef21-aa8fc489e931"
      },
      "source": [
        "plt.figure(figsize=(10,2))\n",
        "for index, (image, label) in enumerate(zip(digits.data[0:5], digits.target[0:5])):\n",
        "    plt.subplot(1, 5, index + 1)\n",
        "    plt.imshow(np.reshape(image, (8,8)), cmap=plt.cm.gray)\n",
        "    plt.title(f'{label}', fontsize = 16)"
      ],
      "execution_count": 22,
      "outputs": [
        {
          "output_type": "display_data",
          "data": {
            "text/plain": [
              "<Figure size 720x144 with 5 Axes>"
            ],
            "image/png": "[encoded data removed]"
          },
          "metadata": {
            "needs_background": "light"
          }
        }
      ]
    },
    {
      "cell_type": "code",
      "metadata": {
        "id": "5me-fd7kWz7C",
        "colab": {
          "base_uri": "https://localhost:8080/"
        },
        "outputId": "2a4e7583-c0e9-4112-a6f6-6a9961583ed6"
      },
      "source": [
        "log_reg.fit(x_train, y_train)"
      ],
      "execution_count": 20,
      "outputs": [
        {
          "output_type": "execute_result",
          "data": {
            "text/plain": [
              "LogisticRegression(max_iter=10000)"
            ]
          },
          "metadata": {},
          "execution_count": 20
        }
      ]
    },
    {
      "cell_type": "markdown",
      "source": [
        "## Share the Bounty"
      ],
      "metadata": {
        "id": "nKKzumZumPJp"
      }
    },
    {
      "cell_type": "code",
      "metadata": {
        "id": "nZgWME6PWz7G",
        "colab": {
          "base_uri": "https://localhost:8080/",
          "height": 584
        },
        "outputId": "bee3f881-cbd5-47b5-bf30-3a291df87307"
      },
      "source": [
        "fig, ax = plt.subplots(figsize=(10,10))\n",
        "confusion_matrix = ConfusionMatrixDisplay.from_estimator(log_reg, x_test, y_test, ax=ax, values_format=\".2f\", normalize=\"true\")\n"
      ],
      "execution_count": 21,
      "outputs": [
        {
          "output_type": "display_data",
          "data": {
            "text/plain": [
              "<Figure size 720x720 with 2 Axes>"
            ],
            "image/png": "[encoded data removed]"
          },
          "metadata": {
            "needs_background": "light"
          }
        }
      ]
    },
    {
      "cell_type": "markdown",
      "source": [
        "# Functions"
      ],
      "metadata": {
        "id": "tbLLORyMn3Is"
      }
    },
    {
      "cell_type": "markdown",
      "source": [
        "Let's have a closer look at the functions we used in the previous example"
      ],
      "metadata": {
        "id": "4CMCAt-Nn5Ff"
      }
    },
    {
      "cell_type": "markdown",
      "source": [
        "## `load_digits`"
      ],
      "metadata": {
        "id": "U_k5sCkMoCph"
      }
    },
    {
      "cell_type": "markdown",
      "source": [
        "* [Documentation](https://scikit-learn.org/stable/modules/generated/sklearn.datasets.load_digits.html)\n",
        "* It has 3 parameters\n",
        "  * `n_class` - int - default=10\n",
        "  * `return_X_y` - bool - default=False\n",
        "  * `as_frame` - bool - default=False\n",
        "\n",
        "* `load_digits()` is the same as `load_digits(n_class=10, return_X_y=False, as_frame=False)`"
      ],
      "metadata": {
        "id": "i41T_KVdoFbh"
      }
    },
    {
      "cell_type": "code",
      "source": [],
      "metadata": {
        "id": "bmA5Hv_Jk2lG"
      },
      "execution_count": null,
      "outputs": []
    },
    {
      "cell_type": "code",
      "source": [],
      "metadata": {
        "id": "iEj59o42o-vR"
      },
      "execution_count": null,
      "outputs": []
    },
    {
      "cell_type": "code",
      "source": [],
      "metadata": {
        "id": "nZvr9JAVpRAv"
      },
      "execution_count": null,
      "outputs": []
    },
    {
      "cell_type": "code",
      "source": [],
      "metadata": {
        "id": "K-3ydlsqo_pa"
      },
      "execution_count": null,
      "outputs": []
    },
    {
      "cell_type": "code",
      "source": [],
      "metadata": {
        "id": "sWb-dwI6peac"
      },
      "execution_count": null,
      "outputs": []
    },
    {
      "cell_type": "code",
      "source": [],
      "metadata": {
        "id": "qeH2tefYpfy-"
      },
      "execution_count": null,
      "outputs": []
    },
    {
      "cell_type": "code",
      "source": [],
      "metadata": {
        "id": "CSCEKqm2pyKL"
      },
      "execution_count": null,
      "outputs": []
    },
    {
      "cell_type": "code",
      "source": [],
      "metadata": {
        "id": "lyC9s4Z3p6Cd"
      },
      "execution_count": null,
      "outputs": []
    },
    {
      "cell_type": "code",
      "source": [],
      "metadata": {
        "id": "cUiW6T-LqB34"
      },
      "execution_count": null,
      "outputs": []
    },
    {
      "cell_type": "code",
      "source": [],
      "metadata": {
        "id": "UvSrvXvYqDGC"
      },
      "execution_count": null,
      "outputs": []
    },
    {
      "cell_type": "markdown",
      "source": [
        "## `train_test_split`\n"
      ],
      "metadata": {
        "id": "UIs_9ShXrRe3"
      }
    },
    {
      "cell_type": "markdown",
      "source": [
        "* [Documentation](https://scikit-learn.org/stable/modules/generated/sklearn.model_selection.train_test_split.html)\n",
        "* takes IN a list of data of identical size\n",
        "* splits each one into TRAIN / TEST\n",
        "* It uses the `*arrays ` parameter\n",
        "  * collects all arrays in 1 list\n",
        "* then a few named parameters, all with default values\n",
        "  * they are optional for the user, no need to mention them all\n",
        "\n",
        "**USABILITY**\n",
        "* coding witht he `*arrays` is somehow complex\n",
        "* but from the user perspective, it writes easily\n",
        "  * `data1_train, data1_test, data2_train, data2_test = train_test_split(data1, data2, etc...)`"
      ],
      "metadata": {
        "id": "q0CmaUy1rVZw"
      }
    },
    {
      "cell_type": "code",
      "source": [],
      "metadata": {
        "id": "5jn5WHt5qz6B"
      },
      "execution_count": null,
      "outputs": []
    },
    {
      "cell_type": "markdown",
      "source": [
        "# Default Values"
      ],
      "metadata": {
        "id": "HEuI_JK2Xdj8"
      }
    },
    {
      "cell_type": "markdown",
      "source": [
        "* parameters with default value go **at the end** of the list of parameters"
      ],
      "metadata": {
        "id": "KPjpkloQYHHD"
      }
    },
    {
      "cell_type": "code",
      "source": [],
      "metadata": {
        "id": "dhSuBWu8YStV"
      },
      "execution_count": null,
      "outputs": []
    },
    {
      "cell_type": "code",
      "source": [],
      "metadata": {
        "id": "ycY3iRdRsi8y"
      },
      "execution_count": null,
      "outputs": []
    },
    {
      "cell_type": "code",
      "source": [],
      "metadata": {
        "id": "XdUxHjbuXuwm"
      },
      "execution_count": null,
      "outputs": []
    },
    {
      "cell_type": "code",
      "source": [],
      "metadata": {
        "id": "C2d93xXEX-YA"
      },
      "execution_count": null,
      "outputs": []
    }
  ]
}